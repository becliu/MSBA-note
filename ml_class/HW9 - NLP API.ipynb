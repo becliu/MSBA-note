{
 "cells": [
  {
   "cell_type": "markdown",
   "metadata": {
    "toc": true
   },
   "source": [
    "<h1>Table of Contents<span class=\"tocSkip\"></span></h1>\n",
    "<div class=\"toc\"><ul class=\"toc-item\"><li><span><a href=\"#NLP-Workflow-in-AWS-Comprehend\" data-toc-modified-id=\"NLP-Workflow-in-AWS-Comprehend-1\">NLP Workflow in AWS Comprehend</a></span><ul class=\"toc-item\"><li><span><a href=\"#Set-Up-Sentiment-Analysis-API\" data-toc-modified-id=\"Set-Up-Sentiment-Analysis-API-1.1\">Set Up Sentiment Analysis API</a></span></li><li><span><a href=\"#Read-in-text-files---Yelp-Reviews\" data-toc-modified-id=\"Read-in-text-files---Yelp-Reviews-1.2\">Read in text files - Yelp Reviews</a></span></li><li><span><a href=\"#Sentiment-Analysis-on-Entire-Document\" data-toc-modified-id=\"Sentiment-Analysis-on-Entire-Document-1.3\">Sentiment Analysis on Entire Document</a></span></li></ul></li><li><span><a href=\"#NLP-Workflow-in-Google-Cloud-Platform\" data-toc-modified-id=\"NLP-Workflow-in-Google-Cloud-Platform-2\">NLP Workflow in Google Cloud Platform</a></span></li></ul></div>"
   ]
  },
  {
   "cell_type": "markdown",
   "metadata": {},
   "source": [
    "# NLP Workflow in AWS Comprehend"
   ]
  },
  {
   "cell_type": "markdown",
   "metadata": {},
   "source": [
    "Reference: \n",
    "* Noah's notebook: https://github.com/noahgift/recommendations/blob/master/notebooks/NLP_AWS.ipynb\n",
    "* Amazon Comprehend Developer Guide: https://docs.aws.amazon.com/comprehend/latest/dg/comprehend-dg.pdf"
   ]
  },
  {
   "cell_type": "markdown",
   "metadata": {},
   "source": [
    "## Set Up Sentiment Analysis API"
   ]
  },
  {
   "cell_type": "code",
   "execution_count": 4,
   "metadata": {},
   "outputs": [],
   "source": [
    "import pandas as pd\n",
    "import boto3\n",
    "import json"
   ]
  },
  {
   "cell_type": "code",
   "execution_count": 2,
   "metadata": {},
   "outputs": [],
   "source": [
    "comprehend = boto3.client(service_name='comprehend')"
   ]
  },
  {
   "cell_type": "markdown",
   "metadata": {},
   "source": [
    "To set up the confidential:\n",
    "    \n",
    "* Step 2: Set Up the AWS Command Line Interface (AWS CLI)\n",
    "    * setup: https://docs.aws.amazon.com/cli/latest/userguide/cli-install-macos.html\n",
    "        * the only difference is : I didn’t use “ls -a ~”, instead, I use sublime ~/.zshrc \n",
    "        * and added a line of “export PATH=~/.local/bin:$PATH” at the begining\n",
    "    * configure\n",
    "        * Access key ID: see evernote\n",
    "        * Secret access key: see evernote"
   ]
  },
  {
   "cell_type": "code",
   "execution_count": 3,
   "metadata": {},
   "outputs": [
    {
     "name": "stdout",
     "output_type": "stream",
     "text": [
      "Calling DetectSentiment\n",
      "{\n",
      "    \"ResponseMetadata\": {\n",
      "        \"HTTPHeaders\": {\n",
      "            \"connection\": \"keep-alive\",\n",
      "            \"content-length\": \"163\",\n",
      "            \"content-type\": \"application/x-amz-json-1.1\",\n",
      "            \"date\": \"Wed, 07 Mar 2018 07:20:43 GMT\",\n",
      "            \"x-amzn-requestid\": \"0c3a25ca-21d8-11e8-a9ff-3f6c9b5ef217\"\n",
      "        },\n",
      "        \"HTTPStatusCode\": 200,\n",
      "        \"RequestId\": \"0c3a25ca-21d8-11e8-a9ff-3f6c9b5ef217\",\n",
      "        \"RetryAttempts\": 0\n",
      "    },\n",
      "    \"Sentiment\": \"NEUTRAL\",\n",
      "    \"SentimentScore\": {\n",
      "        \"Mixed\": 0.0008793864399194717,\n",
      "        \"Negative\": 0.00784251093864441,\n",
      "        \"Neutral\": 0.9757477641105652,\n",
      "        \"Positive\": 0.015530400909483433\n",
      "    }\n",
      "}\n",
      "End of DetectSentiment\n",
      "\n"
     ]
    }
   ],
   "source": [
    "text = \"It is sunny today in San Francisco\"\n",
    "print('Calling DetectSentiment')\n",
    "print(json.dumps(comprehend.detect_sentiment(Text=text, LanguageCode='en'), sort_keys=True, indent=4))\n",
    "print('End of DetectSentiment\\n')"
   ]
  },
  {
   "cell_type": "markdown",
   "metadata": {},
   "source": [
    "## Read in text files - Yelp Reviews"
   ]
  },
  {
   "cell_type": "code",
   "execution_count": 5,
   "metadata": {},
   "outputs": [],
   "source": [
    "path = \"/Users/Crystal/src/Data_Analytics_Projects/Yelp_Dataset_Challenge_NLP_Project/yelp_dataset_challenge_round9/yelp_academic_dataset_review.json\"\n",
    "doc1 = open(path, \"r\")\n",
    "output = doc1.readlines()"
   ]
  },
  {
   "cell_type": "code",
   "execution_count": 11,
   "metadata": {},
   "outputs": [
    {
     "data": {
      "text/plain": [
       "'{\"review_id\":\"wslW2Lu4NYylb1jEapAGsw\",\"user_id\":\"r1NUhdNmL6yU9Bn-Yx6FTw\",\"business_id\":\"2aFiy99vNLklCx3T_tGS9A\",\"stars\":5,\"date\":\"2011-04-29\",\"text\":\"Great service! Corey is very service oriented. Works fast and very effiecient with his time. Going to use him again real soon to do additional IT services. thanks Corey.\",\"useful\":0,\"funny\":0,\"cool\":0,\"type\":\"review\"}\\n'"
      ]
     },
     "execution_count": 11,
     "metadata": {},
     "output_type": "execute_result"
    }
   ],
   "source": [
    "output[2]"
   ]
  },
  {
   "cell_type": "code",
   "execution_count": 13,
   "metadata": {},
   "outputs": [],
   "source": [
    "python_obj = json.loads(output[2])"
   ]
  },
  {
   "cell_type": "code",
   "execution_count": 14,
   "metadata": {},
   "outputs": [
    {
     "data": {
      "text/plain": [
       "'Great service! Corey is very service oriented. Works fast and very effiecient with his time. Going to use him again real soon to do additional IT services. thanks Corey.'"
      ]
     },
     "execution_count": 14,
     "metadata": {},
     "output_type": "execute_result"
    }
   ],
   "source": [
    "python_obj['text']"
   ]
  },
  {
   "cell_type": "code",
   "execution_count": 17,
   "metadata": {},
   "outputs": [
    {
     "name": "stdout",
     "output_type": "stream",
     "text": [
      "{\n",
      "    \"ResponseMetadata\": {\n",
      "        \"HTTPHeaders\": {\n",
      "            \"connection\": \"keep-alive\",\n",
      "            \"content-length\": \"166\",\n",
      "            \"content-type\": \"application/x-amz-json-1.1\",\n",
      "            \"date\": \"Wed, 07 Mar 2018 07:45:21 GMT\",\n",
      "            \"x-amzn-requestid\": \"7ceab1a3-21db-11e8-9342-67a4d2892763\"\n",
      "        },\n",
      "        \"HTTPStatusCode\": 200,\n",
      "        \"RequestId\": \"7ceab1a3-21db-11e8-9342-67a4d2892763\",\n",
      "        \"RetryAttempts\": 0\n",
      "    },\n",
      "    \"Sentiment\": \"POSITIVE\",\n",
      "    \"SentimentScore\": {\n",
      "        \"Mixed\": 0.0017196304397657514,\n",
      "        \"Negative\": 0.0004199223767500371,\n",
      "        \"Neutral\": 0.017272725701332092,\n",
      "        \"Positive\": 0.9805876612663269\n",
      "    }\n",
      "}\n"
     ]
    }
   ],
   "source": [
    "print(json.dumps(comprehend.detect_sentiment(Text=python_obj['text'], LanguageCode='en'), sort_keys=True, indent=4))"
   ]
  },
  {
   "cell_type": "markdown",
   "metadata": {},
   "source": [
    "## Sentiment Analysis on Entire Document"
   ]
  },
  {
   "cell_type": "code",
   "execution_count": 18,
   "metadata": {},
   "outputs": [],
   "source": [
    "whole_doc = ', '.join(map(str, output))"
   ]
  },
  {
   "cell_type": "code",
   "execution_count": 20,
   "metadata": {},
   "outputs": [],
   "source": [
    "# print(json.dumps(comprehend.detect_sentiment(Text=whole_doc, LanguageCode='en'), sort_keys=True, indent=4))\n",
    "# To be fix: Error here: \"OverflowError: string longer than 2147483647 bytes\" "
   ]
  },
  {
   "cell_type": "markdown",
   "metadata": {},
   "source": [
    "# NLP Workflow in Google Cloud Platform"
   ]
  },
  {
   "cell_type": "markdown",
   "metadata": {},
   "source": [
    "Reference:\n",
    "* Noah's notebook: https://github.com/noahgift/recommendations/blob/master/notebooks/NLP_GCP.ipynb"
   ]
  },
  {
   "cell_type": "code",
   "execution_count": 21,
   "metadata": {},
   "outputs": [],
   "source": [
    "def implicit():\n",
    "    from google.cloud import storage\n",
    "\n",
    "    # If you don't specify credentials when constructing the client, the\n",
    "    # client library will look for credentials in the environment.\n",
    "    storage_client = storage.Client()\n",
    "\n",
    "    # Make an authenticated API request\n",
    "    buckets = list(storage_client.list_buckets())\n",
    "    print(buckets)"
   ]
  },
  {
   "cell_type": "code",
   "execution_count": 22,
   "metadata": {},
   "outputs": [
    {
     "name": "stdout",
     "output_type": "stream",
     "text": [
      "[<Bucket: elevated-watch-181504>, <Bucket: practicum_zqy>]\n"
     ]
    }
   ],
   "source": [
    "implicit()"
   ]
  },
  {
   "cell_type": "code",
   "execution_count": 26,
   "metadata": {},
   "outputs": [],
   "source": [
    "#! pip install google.cloud"
   ]
  },
  {
   "cell_type": "code",
   "execution_count": 25,
   "metadata": {},
   "outputs": [],
   "source": [
    "# Imports the Google Cloud client library\n",
    "from google.cloud import language\n",
    "from google.cloud.language import enums\n",
    "from google.cloud.language import types"
   ]
  },
  {
   "cell_type": "code",
   "execution_count": null,
   "metadata": {},
   "outputs": [],
   "source": []
  }
 ],
 "metadata": {
  "kernelspec": {
   "display_name": "Python 3",
   "language": "python",
   "name": "python3"
  },
  "language_info": {
   "codemirror_mode": {
    "name": "ipython",
    "version": 3
   },
   "file_extension": ".py",
   "mimetype": "text/x-python",
   "name": "python",
   "nbconvert_exporter": "python",
   "pygments_lexer": "ipython3",
   "version": "3.6.3"
  },
  "toc": {
   "nav_menu": {},
   "number_sections": false,
   "sideBar": true,
   "skip_h1_title": false,
   "title_cell": "Table of Contents",
   "title_sidebar": "Contents",
   "toc_cell": true,
   "toc_position": {},
   "toc_section_display": true,
   "toc_window_display": false
  }
 },
 "nbformat": 4,
 "nbformat_minor": 2
}
