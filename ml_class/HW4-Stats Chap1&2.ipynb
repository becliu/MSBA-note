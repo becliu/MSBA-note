{
 "cells": [
  {
   "cell_type": "markdown",
   "metadata": {},
   "source": [
    "# 1.22.1"
   ]
  },
  {
   "cell_type": "markdown",
   "metadata": {},
   "source": [
    "1. In Section 1.12.1.2, the reader was reminded that the results of a cross- validation are random, due to the random partitioning into training and test sets. Try doing several runs of the linear and k-NN code in that section, comparing results.\n"
   ]
  },
  {
   "cell_type": "markdown",
   "metadata": {},
   "source": [
    "#### load data"
   ]
  },
  {
   "cell_type": "code",
   "execution_count": 55,
   "metadata": {},
   "outputs": [],
   "source": [
    "library(freqparcoord)"
   ]
  },
  {
   "cell_type": "code",
   "execution_count": 56,
   "metadata": {},
   "outputs": [],
   "source": [
    "data(mlb)"
   ]
  },
  {
   "cell_type": "code",
   "execution_count": 57,
   "metadata": {},
   "outputs": [
    {
     "data": {
      "text/html": [
       "<table>\n",
       "<thead><tr><th scope=col>Name</th><th scope=col>Team</th><th scope=col>Position</th><th scope=col>Height</th><th scope=col>Weight</th><th scope=col>Age</th><th scope=col>PosCategory</th></tr></thead>\n",
       "<tbody>\n",
       "\t<tr><td>Adam_Donachie  </td><td>BAL            </td><td>Catcher        </td><td>74             </td><td>180            </td><td>22.99          </td><td>Catcher        </td></tr>\n",
       "\t<tr><td>Paul_Bako      </td><td>BAL            </td><td>Catcher        </td><td>74             </td><td>215            </td><td>34.69          </td><td>Catcher        </td></tr>\n",
       "\t<tr><td>Ramon_Hernandez</td><td>BAL            </td><td>Catcher        </td><td>72             </td><td>210            </td><td>30.78          </td><td>Catcher        </td></tr>\n",
       "\t<tr><td>Kevin_Millar   </td><td>BAL            </td><td>First_Baseman  </td><td>72             </td><td>210            </td><td>35.43          </td><td>Infielder      </td></tr>\n",
       "\t<tr><td>Chris_Gomez    </td><td>BAL            </td><td>First_Baseman  </td><td>73             </td><td>188            </td><td>35.71          </td><td>Infielder      </td></tr>\n",
       "\t<tr><td>Brian_Roberts  </td><td>BAL            </td><td>Second_Baseman </td><td>69             </td><td>176            </td><td>29.39          </td><td>Infielder      </td></tr>\n",
       "</tbody>\n",
       "</table>\n"
      ],
      "text/latex": [
       "\\begin{tabular}{r|lllllll}\n",
       " Name & Team & Position & Height & Weight & Age & PosCategory\\\\\n",
       "\\hline\n",
       "\t Adam\\_Donachie   & BAL               & Catcher           & 74                & 180               & 22.99             & Catcher          \\\\\n",
       "\t Paul\\_Bako       & BAL               & Catcher           & 74                & 215               & 34.69             & Catcher          \\\\\n",
       "\t Ramon\\_Hernandez & BAL               & Catcher           & 72                & 210               & 30.78             & Catcher          \\\\\n",
       "\t Kevin\\_Millar    & BAL               & First\\_Baseman   & 72                & 210               & 35.43             & Infielder        \\\\\n",
       "\t Chris\\_Gomez     & BAL               & First\\_Baseman   & 73                & 188               & 35.71             & Infielder        \\\\\n",
       "\t Brian\\_Roberts   & BAL               & Second\\_Baseman  & 69                & 176               & 29.39             & Infielder        \\\\\n",
       "\\end{tabular}\n"
      ],
      "text/markdown": [
       "\n",
       "Name | Team | Position | Height | Weight | Age | PosCategory | \n",
       "|---|---|---|---|---|---|\n",
       "| Adam_Donachie   | BAL             | Catcher         | 74              | 180             | 22.99           | Catcher         | \n",
       "| Paul_Bako       | BAL             | Catcher         | 74              | 215             | 34.69           | Catcher         | \n",
       "| Ramon_Hernandez | BAL             | Catcher         | 72              | 210             | 30.78           | Catcher         | \n",
       "| Kevin_Millar    | BAL             | First_Baseman   | 72              | 210             | 35.43           | Infielder       | \n",
       "| Chris_Gomez     | BAL             | First_Baseman   | 73              | 188             | 35.71           | Infielder       | \n",
       "| Brian_Roberts   | BAL             | Second_Baseman  | 69              | 176             | 29.39           | Infielder       | \n",
       "\n",
       "\n"
      ],
      "text/plain": [
       "  Name            Team Position       Height Weight Age   PosCategory\n",
       "1 Adam_Donachie   BAL  Catcher        74     180    22.99 Catcher    \n",
       "2 Paul_Bako       BAL  Catcher        74     215    34.69 Catcher    \n",
       "3 Ramon_Hernandez BAL  Catcher        72     210    30.78 Catcher    \n",
       "4 Kevin_Millar    BAL  First_Baseman  72     210    35.43 Infielder  \n",
       "5 Chris_Gomez     BAL  First_Baseman  73     188    35.71 Infielder  \n",
       "6 Brian_Roberts   BAL  Second_Baseman 69     176    29.39 Infielder  "
      ]
     },
     "metadata": {},
     "output_type": "display_data"
    }
   ],
   "source": [
    "head(mlb)"
   ]
  },
  {
   "cell_type": "markdown",
   "metadata": {},
   "source": [
    "#### cross-validation"
   ]
  },
  {
   "cell_type": "code",
   "execution_count": 72,
   "metadata": {},
   "outputs": [],
   "source": [
    "xvalpart <- function(data, p){\n",
    "    n <- nrow(data)\n",
    "    ntrain <- round(p*n)\n",
    "    trainidxs <- sample(1:n, ntrain, replace = FALSE)\n",
    "    list(train = data[trainidxs,],\n",
    "        valid = data[-trainidxs,])\n",
    "}"
   ]
  },
  {
   "cell_type": "markdown",
   "metadata": {},
   "source": [
    "#### linear model"
   ]
  },
  {
   "cell_type": "code",
   "execution_count": 64,
   "metadata": {},
   "outputs": [],
   "source": [
    "xvallm <- function(data, ycol, predvars, p, meanabs=TRUE){\n",
    "    tmp <- xvalpart(data, p)\n",
    "    train <- tmp$train\n",
    "    valid <- tmp$valid\n",
    "    trainy <- train[,ycol]\n",
    "    trainpreds <- train[,predvars]\n",
    "    trainpreds <- as.matrix(trainpreds)\n",
    "    lmout <- lm(trainy ~ trainpreds)\n",
    "    validpreds <- as.matrix(valid[,predvars])\n",
    "    predy <- cbind(1, validpreds)%*%coef(lmout)\n",
    "    realy <- valid[,ycol]\n",
    "    if(meanabs) return (mean(abs(predy - realy)))\n",
    "    list(predy = predy, realy = realy)\n",
    "\n",
    "}"
   ]
  },
  {
   "cell_type": "code",
   "execution_count": 65,
   "metadata": {},
   "outputs": [
    {
     "data": {
      "text/html": [
       "13.9952486708203"
      ],
      "text/latex": [
       "13.9952486708203"
      ],
      "text/markdown": [
       "13.9952486708203"
      ],
      "text/plain": [
       "[1] 13.99525"
      ]
     },
     "metadata": {},
     "output_type": "display_data"
    }
   ],
   "source": [
    "xvallm(mlb, 5, c(4,6), 2/3)"
   ]
  },
  {
   "cell_type": "markdown",
   "metadata": {},
   "source": [
    "I run the code above for several times, and the results are below, they are pretty much close to the same value, but slightly different.\n",
    "\n",
    "13.8709363751334\n",
    "\n",
    "13.3936339425929\n",
    "\n",
    "13.5901466113105\n",
    "\n",
    "13.9952486708203"
   ]
  },
  {
   "cell_type": "markdown",
   "metadata": {},
   "source": [
    "#### k-NN"
   ]
  },
  {
   "cell_type": "code",
   "execution_count": 78,
   "metadata": {},
   "outputs": [],
   "source": [
    "xvalknn <- function(data, ycol, predvars, k, p, meanabs=TRUE){\n",
    "    data <- data[,c(predvars, ycol)]\n",
    "    ycol <- length(predvars) +1\n",
    "    tmp <- xvalpart(data, p)\n",
    "    train <- tmp$train\n",
    "    valid <- tmp$valid\n",
    "    valid <- as.matrix(valid)\n",
    "    xd <- preprocessx(train[,-ycol],k)\n",
    "    kout <- knnest(train[,ycol], xd, k)\n",
    "    predy <- predict(kout, valid[,-ycol], TRUE)\n",
    "    realy <- valid[,ycol]\n",
    "    if(meanabs) return(mean(abs(predy - realy)))\n",
    "    list(predy = predy, realy = realy)\n",
    "}"
   ]
  },
  {
   "cell_type": "code",
   "execution_count": 79,
   "metadata": {},
   "outputs": [
    {
     "data": {
      "text/html": [
       "14.1634319526627"
      ],
      "text/latex": [
       "14.1634319526627"
      ],
      "text/markdown": [
       "14.1634319526627"
      ],
      "text/plain": [
       "[1] 14.16343"
      ]
     },
     "metadata": {},
     "output_type": "display_data"
    }
   ],
   "source": [
    "library(regtools)\n",
    "#set.seed(9999)\n",
    "xvalknn(mlb, 5, c(4, 6), 25, 2/3)"
   ]
  },
  {
   "cell_type": "markdown",
   "metadata": {},
   "source": [
    "I also run the k-NN for several times, and get the results, they are also very close to each other:\n",
    "\n",
    "14.3281656804734\n",
    "\n",
    "14.1320710059172\n",
    "\n",
    "13.7398816568047\n",
    "\n",
    "14.1634319526627"
   ]
  },
  {
   "cell_type": "markdown",
   "metadata": {},
   "source": [
    "# 1.22.2"
   ]
  },
  {
   "cell_type": "markdown",
   "metadata": {},
   "source": [
    "Extend (1.28) to include interaction terms for age and gender, and age2 and gender. Run the new model, and find the estimated effect of being female, for a 32-year-old person with a Master’s degree."
   ]
  },
  {
   "cell_type": "code",
   "execution_count": 44,
   "metadata": {},
   "outputs": [],
   "source": [
    "library(freqparcoord)\n",
    "data(prgeng)\n",
    "prgeng$age2 <- prgeng$age^2\n",
    "edu <- prgeng$educ\n",
    "prgeng$ms <- as.integer(edu == 14)\n",
    "prgeng$phd <- as.integer(edu == 16)\n",
    "prgeng$fem <- prgeng$sex - 1\n",
    "prgeng$agegender <- prgeng$age * prgeng$fem\n",
    "prgeng$age2gender <- prgeng$age2 * prgeng$fem\n",
    "tmp <- prgeng[edu >= 13,]\n",
    "pe <- tmp[ ,c(1 ,12 ,9 ,13 ,14 ,15 ,8)]\n",
    "pe <- as.matrix(pe)"
   ]
  },
  {
   "cell_type": "markdown",
   "metadata": {},
   "source": [
    "since from \"a 32-year-old person with a Master’s degree\" I don't know the value of wkswrkd, I just exclude this variable from the model "
   ]
  },
  {
   "cell_type": "code",
   "execution_count": 45,
   "metadata": {},
   "outputs": [],
   "source": [
    "lmout = lm(wageinc ~ age+age2+ms+phd+fem+agegender+age2gender , data=prgeng )"
   ]
  },
  {
   "cell_type": "code",
   "execution_count": 46,
   "metadata": {},
   "outputs": [
    {
     "data": {
      "text/plain": [
       "\n",
       "Call:\n",
       "lm(formula = wageinc ~ age + age2 + ms + phd + fem + agegender + \n",
       "    age2gender, data = prgeng)\n",
       "\n",
       "Coefficients:\n",
       "(Intercept)          age         age2           ms          phd          fem  \n",
       "  -96569.95      7423.08       -81.34     16118.22     25109.31     39508.63  \n",
       "  agegender   age2gender  \n",
       "   -2632.34        29.92  \n"
      ]
     },
     "metadata": {},
     "output_type": "display_data"
    }
   ],
   "source": [
    "lmout"
   ]
  },
  {
   "cell_type": "code",
   "execution_count": 48,
   "metadata": {},
   "outputs": [
    {
     "data": {
      "text/html": [
       "<strong>1:</strong> 59708.1547489901"
      ],
      "text/latex": [
       "\\textbf{1:} 59708.1547489901"
      ],
      "text/markdown": [
       "**1:** 59708.1547489901"
      ],
      "text/plain": [
       "       1 \n",
       "59708.15 "
      ]
     },
     "metadata": {},
     "output_type": "display_data"
    }
   ],
   "source": [
    "predict(lmout, data.frame(age = 32, fem = 1, age2 = 32*32, ms = 1, phd = 0, agegender = 32*1, age2gender = 32*32*1))"
   ]
  },
  {
   "cell_type": "code",
   "execution_count": 51,
   "metadata": {},
   "outputs": [],
   "source": [
    "# another method to calculate the output: coef(lmout) %*% c(32, 32*32, 1, 0, 1, 32*1, 32*32*1)"
   ]
  },
  {
   "cell_type": "markdown",
   "metadata": {},
   "source": [
    "# 1.22.3"
   ]
  },
  {
   "cell_type": "markdown",
   "metadata": {},
   "source": [
    "Consider the bodyfat data mentioned in Section 1.2. Use lm() to form a prediction equation for density from the other variables (skipping the first three), and comment on whether use of indirect methods in this way seems feasible."
   ]
  },
  {
   "cell_type": "code",
   "execution_count": 53,
   "metadata": {},
   "outputs": [
    {
     "name": "stderr",
     "output_type": "stream",
     "text": [
      "Loading required package: survival\n"
     ]
    },
    {
     "data": {
      "text/html": [
       "<table>\n",
       "<thead><tr><th scope=col>case</th><th scope=col>brozek</th><th scope=col>siri</th><th scope=col>density</th><th scope=col>age</th><th scope=col>weight</th><th scope=col>height</th><th scope=col>neck</th><th scope=col>chest</th><th scope=col>abdomen</th><th scope=col>hip</th><th scope=col>thigh</th><th scope=col>knee</th><th scope=col>ankle</th><th scope=col>biceps</th><th scope=col>forearm</th><th scope=col>wrist</th></tr></thead>\n",
       "<tbody>\n",
       "\t<tr><td>1     </td><td>12.6  </td><td>12.3  </td><td>1.0708</td><td>23    </td><td>154.25</td><td>67.75 </td><td>36.2  </td><td> 93.1 </td><td> 85.2 </td><td> 94.5 </td><td>59.0  </td><td>37.3  </td><td>21.9  </td><td>32.0  </td><td>27.4  </td><td>17.1  </td></tr>\n",
       "\t<tr><td>2     </td><td> 6.9  </td><td> 6.1  </td><td>1.0853</td><td>22    </td><td>173.25</td><td>72.25 </td><td>38.5  </td><td> 93.6 </td><td> 83.0 </td><td> 98.7 </td><td>58.7  </td><td>37.3  </td><td>23.4  </td><td>30.5  </td><td>28.9  </td><td>18.2  </td></tr>\n",
       "\t<tr><td>3     </td><td>24.6  </td><td>25.3  </td><td>1.0414</td><td>22    </td><td>154.00</td><td>66.25 </td><td>34.0  </td><td> 95.8 </td><td> 87.9 </td><td> 99.2 </td><td>59.6  </td><td>38.9  </td><td>24.0  </td><td>28.8  </td><td>25.2  </td><td>16.6  </td></tr>\n",
       "\t<tr><td>4     </td><td>10.9  </td><td>10.4  </td><td>1.0751</td><td>26    </td><td>184.75</td><td>72.25 </td><td>37.4  </td><td>101.8 </td><td> 86.4 </td><td>101.2 </td><td>60.1  </td><td>37.3  </td><td>22.8  </td><td>32.4  </td><td>29.4  </td><td>18.2  </td></tr>\n",
       "\t<tr><td>5     </td><td>27.8  </td><td>28.7  </td><td>1.0340</td><td>24    </td><td>184.25</td><td>71.25 </td><td>34.4  </td><td> 97.3 </td><td>100.0 </td><td>101.9 </td><td>63.2  </td><td>42.2  </td><td>24.0  </td><td>32.2  </td><td>27.7  </td><td>17.7  </td></tr>\n",
       "\t<tr><td>6     </td><td>20.6  </td><td>20.9  </td><td>1.0502</td><td>24    </td><td>210.25</td><td>74.75 </td><td>39.0  </td><td>104.5 </td><td> 94.4 </td><td>107.8 </td><td>66.0  </td><td>42.0  </td><td>25.6  </td><td>35.7  </td><td>30.6  </td><td>18.8  </td></tr>\n",
       "</tbody>\n",
       "</table>\n"
      ],
      "text/latex": [
       "\\begin{tabular}{r|lllllllllllllllll}\n",
       " case & brozek & siri & density & age & weight & height & neck & chest & abdomen & hip & thigh & knee & ankle & biceps & forearm & wrist\\\\\n",
       "\\hline\n",
       "\t 1      & 12.6   & 12.3   & 1.0708 & 23     & 154.25 & 67.75  & 36.2   &  93.1  &  85.2  &  94.5  & 59.0   & 37.3   & 21.9   & 32.0   & 27.4   & 17.1  \\\\\n",
       "\t 2      &  6.9   &  6.1   & 1.0853 & 22     & 173.25 & 72.25  & 38.5   &  93.6  &  83.0  &  98.7  & 58.7   & 37.3   & 23.4   & 30.5   & 28.9   & 18.2  \\\\\n",
       "\t 3      & 24.6   & 25.3   & 1.0414 & 22     & 154.00 & 66.25  & 34.0   &  95.8  &  87.9  &  99.2  & 59.6   & 38.9   & 24.0   & 28.8   & 25.2   & 16.6  \\\\\n",
       "\t 4      & 10.9   & 10.4   & 1.0751 & 26     & 184.75 & 72.25  & 37.4   & 101.8  &  86.4  & 101.2  & 60.1   & 37.3   & 22.8   & 32.4   & 29.4   & 18.2  \\\\\n",
       "\t 5      & 27.8   & 28.7   & 1.0340 & 24     & 184.25 & 71.25  & 34.4   &  97.3  & 100.0  & 101.9  & 63.2   & 42.2   & 24.0   & 32.2   & 27.7   & 17.7  \\\\\n",
       "\t 6      & 20.6   & 20.9   & 1.0502 & 24     & 210.25 & 74.75  & 39.0   & 104.5  &  94.4  & 107.8  & 66.0   & 42.0   & 25.6   & 35.7   & 30.6   & 18.8  \\\\\n",
       "\\end{tabular}\n"
      ],
      "text/markdown": [
       "\n",
       "case | brozek | siri | density | age | weight | height | neck | chest | abdomen | hip | thigh | knee | ankle | biceps | forearm | wrist | \n",
       "|---|---|---|---|---|---|\n",
       "| 1      | 12.6   | 12.3   | 1.0708 | 23     | 154.25 | 67.75  | 36.2   |  93.1  |  85.2  |  94.5  | 59.0   | 37.3   | 21.9   | 32.0   | 27.4   | 17.1   | \n",
       "| 2      |  6.9   |  6.1   | 1.0853 | 22     | 173.25 | 72.25  | 38.5   |  93.6  |  83.0  |  98.7  | 58.7   | 37.3   | 23.4   | 30.5   | 28.9   | 18.2   | \n",
       "| 3      | 24.6   | 25.3   | 1.0414 | 22     | 154.00 | 66.25  | 34.0   |  95.8  |  87.9  |  99.2  | 59.6   | 38.9   | 24.0   | 28.8   | 25.2   | 16.6   | \n",
       "| 4      | 10.9   | 10.4   | 1.0751 | 26     | 184.75 | 72.25  | 37.4   | 101.8  |  86.4  | 101.2  | 60.1   | 37.3   | 22.8   | 32.4   | 29.4   | 18.2   | \n",
       "| 5      | 27.8   | 28.7   | 1.0340 | 24     | 184.25 | 71.25  | 34.4   |  97.3  | 100.0  | 101.9  | 63.2   | 42.2   | 24.0   | 32.2   | 27.7   | 17.7   | \n",
       "| 6      | 20.6   | 20.9   | 1.0502 | 24     | 210.25 | 74.75  | 39.0   | 104.5  |  94.4  | 107.8  | 66.0   | 42.0   | 25.6   | 35.7   | 30.6   | 18.8   | \n",
       "\n",
       "\n"
      ],
      "text/plain": [
       "  case brozek siri density age weight height neck chest abdomen hip   thigh\n",
       "1 1    12.6   12.3 1.0708  23  154.25 67.75  36.2  93.1  85.2    94.5 59.0 \n",
       "2 2     6.9    6.1 1.0853  22  173.25 72.25  38.5  93.6  83.0    98.7 58.7 \n",
       "3 3    24.6   25.3 1.0414  22  154.00 66.25  34.0  95.8  87.9    99.2 59.6 \n",
       "4 4    10.9   10.4 1.0751  26  184.75 72.25  37.4 101.8  86.4   101.2 60.1 \n",
       "5 5    27.8   28.7 1.0340  24  184.25 71.25  34.4  97.3 100.0   101.9 63.2 \n",
       "6 6    20.6   20.9 1.0502  24  210.25 74.75  39.0 104.5  94.4   107.8 66.0 \n",
       "  knee ankle biceps forearm wrist\n",
       "1 37.3 21.9  32.0   27.4    17.1 \n",
       "2 37.3 23.4  30.5   28.9    18.2 \n",
       "3 38.9 24.0  28.8   25.2    16.6 \n",
       "4 37.3 22.8  32.4   29.4    18.2 \n",
       "5 42.2 24.0  32.2   27.7    17.7 \n",
       "6 42.0 25.6  35.7   30.6    18.8 "
      ]
     },
     "metadata": {},
     "output_type": "display_data"
    },
    {
     "data": {
      "text/plain": [
       "\n",
       "Call:\n",
       "lm(formula = density ~ age + weight + height + neck + chest + \n",
       "    abdomen + hip + thigh + knee + ankle + biceps + forearm + \n",
       "    wrist, data = bodyfat)\n",
       "\n",
       "Residuals:\n",
       "      Min        1Q    Median        3Q       Max \n",
       "-0.021527 -0.007717  0.000096  0.006491  0.034114 \n",
       "\n",
       "Coefficients:\n",
       "              Estimate Std. Error t value Pr(>|t|)    \n",
       "(Intercept)  1.139e+00  4.030e-02  28.248  < 2e-16 ***\n",
       "age         -1.203e-04  7.515e-05  -1.601  0.11062    \n",
       "weight       2.395e-04  1.243e-04   1.926  0.05528 .  \n",
       "height       1.498e-04  2.230e-04   0.672  0.50243    \n",
       "neck         1.075e-03  5.401e-04   1.991  0.04765 *  \n",
       "chest        1.232e-04  2.303e-04   0.535  0.59339    \n",
       "abdomen     -2.277e-03  2.008e-04 -11.335  < 2e-16 ***\n",
       "hip          5.513e-04  3.390e-04   1.626  0.10521    \n",
       "thigh       -6.149e-04  3.354e-04  -1.833  0.06799 .  \n",
       "knee        -4.844e-05  5.622e-04  -0.086  0.93141    \n",
       "ankle       -6.314e-04  5.145e-04  -1.227  0.22094    \n",
       "biceps      -5.755e-04  3.976e-04  -1.448  0.14907    \n",
       "forearm     -1.017e-03  4.626e-04  -2.198  0.02891 *  \n",
       "wrist        3.959e-03  1.243e-03   3.185  0.00164 ** \n",
       "---\n",
       "Signif. codes:  0 ‘***’ 0.001 ‘**’ 0.01 ‘*’ 0.05 ‘.’ 0.1 ‘ ’ 1\n",
       "\n",
       "Residual standard error: 0.01 on 238 degrees of freedom\n",
       "Multiple R-squared:  0.7381,\tAdjusted R-squared:  0.7238 \n",
       "F-statistic:  51.6 on 13 and 238 DF,  p-value: < 2.2e-16\n"
      ]
     },
     "metadata": {},
     "output_type": "display_data"
    }
   ],
   "source": [
    "library(mfp)\n",
    "data(bodyfat)\n",
    "head(bodyfat)\n",
    "model = lm(density ~ age + weight + height + neck + chest + abdomen + hip + thigh + knee + ankle + biceps + forearm + wrist, data = bodyfat)\n",
    "summary(model)"
   ]
  },
  {
   "cell_type": "markdown",
   "metadata": {},
   "source": [
    "# 1.22.4"
   ]
  },
  {
   "cell_type": "markdown",
   "metadata": {},
   "source": [
    "In Section 1.19.5.2, we gave this intuitive explanation:\n",
    "In other words, the national mean height is a weighted average of the state means, with the weight for each state being its proportion of the national population. Replace state by gender in the following.\n",
    "(a) Write English prose that relates the overall mean height of people and the gender-specific mean heights.\n",
    "(b) Write English prose that relates the overall proportion of people taller than 70 inches to the gender-specific proportions.\n"
   ]
  },
  {
   "cell_type": "markdown",
   "metadata": {},
   "source": [
    "My answer: a) the overall mean height is the sum of mean height of male multiplied by the weight of male in the population, and mean height of female multiplied by the weight of female in the population."
   ]
  },
  {
   "cell_type": "markdown",
   "metadata": {},
   "source": [
    "b) The overall proportion of people taller than 70 inches is the sum of weighted average of proportion of male taller than 70 inches and female taller than 70 inches."
   ]
  },
  {
   "cell_type": "markdown",
   "metadata": {},
   "source": [
    "# 2.14.1"
   ]
  },
  {
   "cell_type": "markdown",
   "metadata": {},
   "source": [
    "Consider the census data in Section 1.16.1.\n",
    "(a) Form an approximate 95% confidence interval for β6 in the model (1.28).\n",
    "(b) Form an approximate 95% confidence interval for the gender effect for Master’s degree holders, β6 + β7, in the model (1.28)."
   ]
  },
  {
   "cell_type": "code",
   "execution_count": 83,
   "metadata": {},
   "outputs": [
    {
     "data": {
      "text/html": [
       "'a) The 95 percent confidence interval for beta6 is [-11985.158126 , -7697.500554]'"
      ],
      "text/latex": [
       "'a) The 95 percent confidence interval for beta6 is {[}-11985.158126 , -7697.500554{]}'"
      ],
      "text/markdown": [
       "'a) The 95 percent confidence interval for beta6 is [-11985.158126 , -7697.500554]'"
      ],
      "text/plain": [
       "[1] \"a) The 95 percent confidence interval for beta6 is [-11985.158126 , -7697.500554]\""
      ]
     },
     "metadata": {},
     "output_type": "display_data"
    },
    {
     "data": {
      "text/html": [
       "'b) The 95 percent confidence interval for beta6+beta7 is [-20164.329247, -8191.824516]'"
      ],
      "text/latex": [
       "'b) The 95 percent confidence interval for beta6+beta7 is {[}-20164.329247, -8191.824516{]}'"
      ],
      "text/markdown": [
       "'b) The 95 percent confidence interval for beta6+beta7 is [-20164.329247, -8191.824516]'"
      ],
      "text/plain": [
       "[1] \"b) The 95 percent confidence interval for beta6+beta7 is [-20164.329247, -8191.824516]\""
      ]
     },
     "metadata": {},
     "output_type": "display_data"
    }
   ],
   "source": [
    "data(prgeng)\n",
    "prgeng$age2 <- prgeng$age^2\n",
    "edu <- prgeng$educ\n",
    "prgeng$ms <- as.integer(edu == 14)\n",
    "prgeng$phd <- as.integer(edu == 16)\n",
    "prgeng$fem <- prgeng$sex-1\n",
    "tmp <- prgeng[edu >= 13,]\n",
    "pe_subset <- tmp[,c(1,12,9,13,14,15,8)]\n",
    "pe_subset$msfem <- pe_subset$ms * pe_subset$fem\n",
    "model = lm(wageinc ~., data = pe_subset)\n",
    "sum_model <- summary(model)\n",
    "b6 <- sum_model$coefficients['fem',]\n",
    "b7 <- sum_model$coefficients['msfem',]\n",
    "tval <- qt(0.975, nrow(prgeng)-1)\n",
    "b6_u <- b6[1] + tval*b6[2]\n",
    "b6_l <- b6[1] - tval*b6[2]\n",
    "b7_u <- b7[1] + tval*b7[2]\n",
    "b7_l <- b7[1] - tval*b7[2]\n",
    "sprintf('a) The 95 percent confidence interval for beta6 is [%f , %f]', b6_l, b6_u)\n",
    "sprintf('b) The 95 percent confidence interval for beta6+beta7 is [%f, %f]', b6_l +b7_l, b6_u + b7_u)"
   ]
  },
  {
   "cell_type": "markdown",
   "metadata": {},
   "source": [
    "# 2.14.2"
   ]
  },
  {
   "cell_type": "markdown",
   "metadata": {},
   "source": [
    "The full bikeshare dataset spans 3 years’ time. Our analyses here have only used the first year. Extend the analysis in Section 2.8.5 to the full data set, adding dummy variables indicating the second and third year. Form an approximate 95% confidence interval for the difference between the coefficients of these two dummies."
   ]
  },
  {
   "cell_type": "code",
   "execution_count": 87,
   "metadata": {},
   "outputs": [
    {
     "data": {
      "text/html": [
       "<span style=white-space:pre-wrap>'The 95 percent confidence interval for beta6 is [1604.972618,  1827.537189]'</span>"
      ],
      "text/latex": [
       "'The 95 percent confidence interval for beta6 is {[}1604.972618,  1827.537189{]}'"
      ],
      "text/markdown": [
       "<span style=white-space:pre-wrap>'The 95 percent confidence interval for beta6 is [1604.972618,  1827.537189]'</span>"
      ],
      "text/plain": [
       "[1] \"The 95 percent confidence interval for beta6 is [1604.972618,  1827.537189]\""
      ]
     },
     "metadata": {},
     "output_type": "display_data"
    }
   ],
   "source": [
    "day <- read.csv('MLDatasets/Bike-Sharing-Dataset/day.csv')\n",
    "day$temp2 <- day$temp^2\n",
    "day$clearday <- as.integer(day$weathersit == 1)\n",
    "bike <- lm(registered ~ temp + temp2 + workingday + clearday + yr, data = day)\n",
    "bike_summ <- summary(bike)\n",
    "t_value <- qt(0.975, nrow(day)-1)\n",
    "yr <- bike_summ$coefficients['yr',]\n",
    "yr_l <- yr[1] - t_value * yr[2]\n",
    "yr_h <- yr[1] + t_value * yr[2]\n",
    "\n",
    "sprintf('The 95 percent confidence interval for beta6 is [%f,  %f]', yr_l, yr_h)"
   ]
  },
  {
   "cell_type": "markdown",
   "metadata": {},
   "source": [
    "# 2.14.3"
   ]
  },
  {
   "cell_type": "markdown",
   "metadata": {},
   "source": [
    "Suppose we are studying growth patterns in children, at k particular ages. Denote the height of the ith child in our sample data at age j by Hij, with Hi = (Hi1,...,Hik)′ denoting the data for child i. Suppose the population distribution of each Hi is k-variate normal with mean vector μ and covariance matrix Σ. Say we are interested in successive differences in heights,Dij =Hi,j+1−Hij, j=1,2,...,k−1. DefineDi =(Di1,...,Dik)′. Explain why each Di is (k−1)-variate normal, and derive matrix expressions for the mean vector and covariance matrices."
   ]
  },
  {
   "cell_type": "markdown",
   "metadata": {},
   "source": [
    "# 2.14.4"
   ]
  },
  {
   "cell_type": "markdown",
   "metadata": {},
   "source": [
    "In the simulation in Section 2.9.3, it is claimed that ρ2 = 0.50. Confirm this through derivation."
   ]
  },
  {
   "cell_type": "code",
   "execution_count": 95,
   "metadata": {},
   "outputs": [
    {
     "data": {
      "image/png": "[encoded data removed]",
      "text/plain": [
       "Plot with title “Histogram of r2s”"
      ]
     },
     "metadata": {},
     "output_type": "display_data"
    }
   ],
   "source": [
    "simr2 <- function (n, p , nreps) { \n",
    "    r2s <- vector(length=nreps) \n",
    "    for (i in 1:nreps) {\n",
    "    x <- matrix(rnorm(n*p),ncol=p)\n",
    "    y <- x %*% rep(1,p) + rnorm(n,sd=sqrt(p)) \n",
    "    r2s[i] <- getr2(x,y)\n",
    "    }\n",
    "    hist (r2s) \n",
    "}\n",
    "\n",
    "getr2 <- function(x,y) {\n",
    "    smm <- summary(lm(y ~ x)) \n",
    "    smm$r.squared\n",
    "}\n",
    "\n",
    "simr2(25, 8, 100)"
   ]
  }
 ],
 "metadata": {
  "kernelspec": {
   "display_name": "R",
   "language": "R",
   "name": "ir"
  },
  "language_info": {
   "codemirror_mode": "r",
   "file_extension": ".r",
   "mimetype": "text/x-r-source",
   "name": "R",
   "pygments_lexer": "r",
   "version": "3.3.1"
  }
 },
 "nbformat": 4,
 "nbformat_minor": 2
}
