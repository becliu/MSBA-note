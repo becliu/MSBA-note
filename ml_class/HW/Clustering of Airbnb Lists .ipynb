{
 "cells": [
  {
   "cell_type": "markdown",
   "metadata": {},
   "source": [
    "# Clustering of Airbnb Lists"
   ]
  },
  {
   "cell_type": "markdown",
   "metadata": {},
   "source": [
    "Source of data: http://insideairbnb.com/get-the-data.html"
   ]
  },
  {
   "cell_type": "markdown",
   "metadata": {},
   "source": [
    "### Load data into Pandas"
   ]
  },
  {
   "cell_type": "code",
   "execution_count": 1,
   "metadata": {},
   "outputs": [],
   "source": [
    "import pandas as pd\n",
    "import numpy as np\n",
    "import matplotlib.pyplot as plt\n",
    "% matplotlib inline"
   ]
  },
  {
   "cell_type": "code",
   "execution_count": 2,
   "metadata": {},
   "outputs": [],
   "source": [
    "listings = pd.read_csv(\"data/Airbnb_listings_20171002.csv\")"
   ]
  },
  {
   "cell_type": "code",
   "execution_count": 3,
   "metadata": {},
   "outputs": [
    {
     "data": {
      "text/html": [
       "<div>\n",
       "<style scoped>\n",
       "    .dataframe tbody tr th:only-of-type {\n",
       "        vertical-align: middle;\n",
       "    }\n",
       "\n",
       "    .dataframe tbody tr th {\n",
       "        vertical-align: top;\n",
       "    }\n",
       "\n",
       "    .dataframe thead th {\n",
       "        text-align: right;\n",
       "    }\n",
       "</style>\n",
       "<table border=\"1\" class=\"dataframe\">\n",
       "  <thead>\n",
       "    <tr style=\"text-align: right;\">\n",
       "      <th></th>\n",
       "      <th>id</th>\n",
       "      <th>name</th>\n",
       "      <th>host_id</th>\n",
       "      <th>host_name</th>\n",
       "      <th>neighbourhood_group</th>\n",
       "      <th>neighbourhood</th>\n",
       "      <th>latitude</th>\n",
       "      <th>longitude</th>\n",
       "      <th>room_type</th>\n",
       "      <th>price</th>\n",
       "      <th>minimum_nights</th>\n",
       "      <th>number_of_reviews</th>\n",
       "      <th>last_review</th>\n",
       "      <th>reviews_per_month</th>\n",
       "      <th>calculated_host_listings_count</th>\n",
       "      <th>availability_365</th>\n",
       "    </tr>\n",
       "  </thead>\n",
       "  <tbody>\n",
       "    <tr>\n",
       "      <th>0</th>\n",
       "      <td>16570521</td>\n",
       "      <td>Lands' End hideaway</td>\n",
       "      <td>21303289</td>\n",
       "      <td>Eugenia And Alessandro</td>\n",
       "      <td>NaN</td>\n",
       "      <td>Seacliff</td>\n",
       "      <td>37.787331</td>\n",
       "      <td>-122.492117</td>\n",
       "      <td>Private room</td>\n",
       "      <td>120</td>\n",
       "      <td>4</td>\n",
       "      <td>15</td>\n",
       "      <td>2017-09-04</td>\n",
       "      <td>2.02</td>\n",
       "      <td>2</td>\n",
       "      <td>70</td>\n",
       "    </tr>\n",
       "    <tr>\n",
       "      <th>1</th>\n",
       "      <td>8001958</td>\n",
       "      <td>Ocean and park front panoramic view</td>\n",
       "      <td>24591867</td>\n",
       "      <td>Raul</td>\n",
       "      <td>NaN</td>\n",
       "      <td>Seacliff</td>\n",
       "      <td>37.780708</td>\n",
       "      <td>-122.509160</td>\n",
       "      <td>Entire home/apt</td>\n",
       "      <td>1850</td>\n",
       "      <td>1</td>\n",
       "      <td>0</td>\n",
       "      <td>NaN</td>\n",
       "      <td>NaN</td>\n",
       "      <td>1</td>\n",
       "      <td>0</td>\n",
       "    </tr>\n",
       "    <tr>\n",
       "      <th>2</th>\n",
       "      <td>8388658</td>\n",
       "      <td>Mid-century Seacliff near GG Bridge</td>\n",
       "      <td>9996441</td>\n",
       "      <td>Howard</td>\n",
       "      <td>NaN</td>\n",
       "      <td>Seacliff</td>\n",
       "      <td>37.787664</td>\n",
       "      <td>-122.489152</td>\n",
       "      <td>Entire home/apt</td>\n",
       "      <td>895</td>\n",
       "      <td>3</td>\n",
       "      <td>0</td>\n",
       "      <td>NaN</td>\n",
       "      <td>NaN</td>\n",
       "      <td>1</td>\n",
       "      <td>0</td>\n",
       "    </tr>\n",
       "    <tr>\n",
       "      <th>3</th>\n",
       "      <td>16064495</td>\n",
       "      <td>Charming home with views of the Golden Gate Br...</td>\n",
       "      <td>25596860</td>\n",
       "      <td>Teresa</td>\n",
       "      <td>NaN</td>\n",
       "      <td>Seacliff</td>\n",
       "      <td>37.787923</td>\n",
       "      <td>-122.484357</td>\n",
       "      <td>Entire home/apt</td>\n",
       "      <td>975</td>\n",
       "      <td>2</td>\n",
       "      <td>0</td>\n",
       "      <td>NaN</td>\n",
       "      <td>NaN</td>\n",
       "      <td>1</td>\n",
       "      <td>0</td>\n",
       "    </tr>\n",
       "    <tr>\n",
       "      <th>4</th>\n",
       "      <td>15664146</td>\n",
       "      <td>Spacious 3 beds in convenient/safe neighborhood</td>\n",
       "      <td>101134145</td>\n",
       "      <td>Ey</td>\n",
       "      <td>NaN</td>\n",
       "      <td>Seacliff</td>\n",
       "      <td>37.784365</td>\n",
       "      <td>-122.489515</td>\n",
       "      <td>Entire home/apt</td>\n",
       "      <td>295</td>\n",
       "      <td>2</td>\n",
       "      <td>40</td>\n",
       "      <td>2017-09-14</td>\n",
       "      <td>3.86</td>\n",
       "      <td>1</td>\n",
       "      <td>123</td>\n",
       "    </tr>\n",
       "  </tbody>\n",
       "</table>\n",
       "</div>"
      ],
      "text/plain": [
       "         id                                               name    host_id  \\\n",
       "0  16570521                                Lands' End hideaway   21303289   \n",
       "1   8001958                Ocean and park front panoramic view   24591867   \n",
       "2   8388658                Mid-century Seacliff near GG Bridge    9996441   \n",
       "3  16064495  Charming home with views of the Golden Gate Br...   25596860   \n",
       "4  15664146    Spacious 3 beds in convenient/safe neighborhood  101134145   \n",
       "\n",
       "                host_name  neighbourhood_group neighbourhood   latitude  \\\n",
       "0  Eugenia And Alessandro                  NaN      Seacliff  37.787331   \n",
       "1                    Raul                  NaN      Seacliff  37.780708   \n",
       "2                  Howard                  NaN      Seacliff  37.787664   \n",
       "3                  Teresa                  NaN      Seacliff  37.787923   \n",
       "4                      Ey                  NaN      Seacliff  37.784365   \n",
       "\n",
       "    longitude        room_type  price  minimum_nights  number_of_reviews  \\\n",
       "0 -122.492117     Private room    120               4                 15   \n",
       "1 -122.509160  Entire home/apt   1850               1                  0   \n",
       "2 -122.489152  Entire home/apt    895               3                  0   \n",
       "3 -122.484357  Entire home/apt    975               2                  0   \n",
       "4 -122.489515  Entire home/apt    295               2                 40   \n",
       "\n",
       "  last_review  reviews_per_month  calculated_host_listings_count  \\\n",
       "0  2017-09-04               2.02                               2   \n",
       "1         NaN                NaN                               1   \n",
       "2         NaN                NaN                               1   \n",
       "3         NaN                NaN                               1   \n",
       "4  2017-09-14               3.86                               1   \n",
       "\n",
       "   availability_365  \n",
       "0                70  \n",
       "1                 0  \n",
       "2                 0  \n",
       "3                 0  \n",
       "4               123  "
      ]
     },
     "execution_count": 3,
     "metadata": {},
     "output_type": "execute_result"
    }
   ],
   "source": [
    "listings.head(5)"
   ]
  },
  {
   "cell_type": "code",
   "execution_count": 4,
   "metadata": {},
   "outputs": [],
   "source": [
    "features = ['neighbourhood','room_type','price','minimum_nights','number_of_reviews','reviews_per_month','availability_365','last_review']"
   ]
  },
  {
   "cell_type": "code",
   "execution_count": 5,
   "metadata": {
    "scrolled": true
   },
   "outputs": [],
   "source": [
    "lists = listings[features]"
   ]
  },
  {
   "cell_type": "code",
   "execution_count": 6,
   "metadata": {},
   "outputs": [
    {
     "name": "stdout",
     "output_type": "stream",
     "text": [
      "<class 'pandas.core.frame.DataFrame'>\n",
      "RangeIndex: 8933 entries, 0 to 8932\n",
      "Data columns (total 8 columns):\n",
      "neighbourhood        8933 non-null object\n",
      "room_type            8933 non-null object\n",
      "price                8933 non-null int64\n",
      "minimum_nights       8933 non-null int64\n",
      "number_of_reviews    8933 non-null int64\n",
      "reviews_per_month    7123 non-null float64\n",
      "availability_365     8933 non-null int64\n",
      "last_review          7123 non-null object\n",
      "dtypes: float64(1), int64(4), object(3)\n",
      "memory usage: 558.4+ KB\n"
     ]
    }
   ],
   "source": [
    "lists.info()"
   ]
  },
  {
   "cell_type": "code",
   "execution_count": 7,
   "metadata": {},
   "outputs": [
    {
     "name": "stderr",
     "output_type": "stream",
     "text": [
      "/Users/Crystal/.msba-notes/lib/python3.6/site-packages/ipykernel_launcher.py:1: SettingWithCopyWarning: \n",
      "A value is trying to be set on a copy of a slice from a DataFrame\n",
      "\n",
      "See the caveats in the documentation: http://pandas.pydata.org/pandas-docs/stable/indexing.html#indexing-view-versus-copy\n",
      "  \"\"\"Entry point for launching an IPython kernel.\n"
     ]
    }
   ],
   "source": [
    "lists.loc['last_review_datetime'] = pd.to_datetime(lists['last_review'])"
   ]
  },
  {
   "cell_type": "code",
   "execution_count": 8,
   "metadata": {},
   "outputs": [
    {
     "name": "stdout",
     "output_type": "stream",
     "text": [
      "<class 'pandas.core.frame.DataFrame'>\n",
      "Index: 8934 entries, 0 to last_review_datetime\n",
      "Data columns (total 8 columns):\n",
      "neighbourhood        8933 non-null object\n",
      "room_type            8933 non-null object\n",
      "price                8933 non-null object\n",
      "minimum_nights       8933 non-null object\n",
      "number_of_reviews    8933 non-null object\n",
      "reviews_per_month    7123 non-null float64\n",
      "availability_365     8933 non-null object\n",
      "last_review          7123 non-null object\n",
      "dtypes: float64(1), object(7)\n",
      "memory usage: 628.2+ KB\n"
     ]
    }
   ],
   "source": [
    "lists.info()"
   ]
  },
  {
   "cell_type": "markdown",
   "metadata": {},
   "source": [
    "When \"number_of_reviews\" is zero, transform the \"reviews_per_month\" from null to zero."
   ]
  },
  {
   "cell_type": "code",
   "execution_count": 9,
   "metadata": {},
   "outputs": [
    {
     "name": "stderr",
     "output_type": "stream",
     "text": [
      "/Users/Crystal/.msba-notes/lib/python3.6/site-packages/ipykernel_launcher.py:1: SettingWithCopyWarning: \n",
      "A value is trying to be set on a copy of a slice from a DataFrame.\n",
      "Try using .loc[row_indexer,col_indexer] = value instead\n",
      "\n",
      "See the caveats in the documentation: http://pandas.pydata.org/pandas-docs/stable/indexing.html#indexing-view-versus-copy\n",
      "  \"\"\"Entry point for launching an IPython kernel.\n"
     ]
    }
   ],
   "source": [
    "lists['reviews_per_month'] = np.where(lists['number_of_reviews'] == 0, 0, lists['reviews_per_month'])"
   ]
  },
  {
   "cell_type": "code",
   "execution_count": 10,
   "metadata": {},
   "outputs": [
    {
     "data": {
      "text/html": [
       "<div>\n",
       "<style scoped>\n",
       "    .dataframe tbody tr th:only-of-type {\n",
       "        vertical-align: middle;\n",
       "    }\n",
       "\n",
       "    .dataframe tbody tr th {\n",
       "        vertical-align: top;\n",
       "    }\n",
       "\n",
       "    .dataframe thead th {\n",
       "        text-align: right;\n",
       "    }\n",
       "</style>\n",
       "<table border=\"1\" class=\"dataframe\">\n",
       "  <thead>\n",
       "    <tr style=\"text-align: right;\">\n",
       "      <th></th>\n",
       "      <th>neighbourhood</th>\n",
       "      <th>room_type</th>\n",
       "      <th>price</th>\n",
       "      <th>minimum_nights</th>\n",
       "      <th>number_of_reviews</th>\n",
       "      <th>reviews_per_month</th>\n",
       "      <th>availability_365</th>\n",
       "      <th>last_review</th>\n",
       "    </tr>\n",
       "  </thead>\n",
       "  <tbody>\n",
       "    <tr>\n",
       "      <th>0</th>\n",
       "      <td>Seacliff</td>\n",
       "      <td>Private room</td>\n",
       "      <td>120</td>\n",
       "      <td>4</td>\n",
       "      <td>15</td>\n",
       "      <td>2.02</td>\n",
       "      <td>70</td>\n",
       "      <td>2017-09-04</td>\n",
       "    </tr>\n",
       "    <tr>\n",
       "      <th>1</th>\n",
       "      <td>Seacliff</td>\n",
       "      <td>Entire home/apt</td>\n",
       "      <td>1850</td>\n",
       "      <td>1</td>\n",
       "      <td>0</td>\n",
       "      <td>0.00</td>\n",
       "      <td>0</td>\n",
       "      <td>NaN</td>\n",
       "    </tr>\n",
       "    <tr>\n",
       "      <th>2</th>\n",
       "      <td>Seacliff</td>\n",
       "      <td>Entire home/apt</td>\n",
       "      <td>895</td>\n",
       "      <td>3</td>\n",
       "      <td>0</td>\n",
       "      <td>0.00</td>\n",
       "      <td>0</td>\n",
       "      <td>NaN</td>\n",
       "    </tr>\n",
       "    <tr>\n",
       "      <th>3</th>\n",
       "      <td>Seacliff</td>\n",
       "      <td>Entire home/apt</td>\n",
       "      <td>975</td>\n",
       "      <td>2</td>\n",
       "      <td>0</td>\n",
       "      <td>0.00</td>\n",
       "      <td>0</td>\n",
       "      <td>NaN</td>\n",
       "    </tr>\n",
       "    <tr>\n",
       "      <th>4</th>\n",
       "      <td>Seacliff</td>\n",
       "      <td>Entire home/apt</td>\n",
       "      <td>295</td>\n",
       "      <td>2</td>\n",
       "      <td>40</td>\n",
       "      <td>3.86</td>\n",
       "      <td>123</td>\n",
       "      <td>2017-09-14</td>\n",
       "    </tr>\n",
       "    <tr>\n",
       "      <th>5</th>\n",
       "      <td>Seacliff</td>\n",
       "      <td>Entire home/apt</td>\n",
       "      <td>159</td>\n",
       "      <td>2</td>\n",
       "      <td>332</td>\n",
       "      <td>6.65</td>\n",
       "      <td>51</td>\n",
       "      <td>2017-09-26</td>\n",
       "    </tr>\n",
       "    <tr>\n",
       "      <th>6</th>\n",
       "      <td>Seacliff</td>\n",
       "      <td>Entire home/apt</td>\n",
       "      <td>750</td>\n",
       "      <td>3</td>\n",
       "      <td>7</td>\n",
       "      <td>2.88</td>\n",
       "      <td>162</td>\n",
       "      <td>2017-09-20</td>\n",
       "    </tr>\n",
       "    <tr>\n",
       "      <th>7</th>\n",
       "      <td>Seacliff</td>\n",
       "      <td>Entire home/apt</td>\n",
       "      <td>169</td>\n",
       "      <td>6</td>\n",
       "      <td>4</td>\n",
       "      <td>0.83</td>\n",
       "      <td>175</td>\n",
       "      <td>2017-09-17</td>\n",
       "    </tr>\n",
       "    <tr>\n",
       "      <th>8</th>\n",
       "      <td>Seacliff</td>\n",
       "      <td>Entire home/apt</td>\n",
       "      <td>170</td>\n",
       "      <td>30</td>\n",
       "      <td>6</td>\n",
       "      <td>0.08</td>\n",
       "      <td>293</td>\n",
       "      <td>2017-08-31</td>\n",
       "    </tr>\n",
       "    <tr>\n",
       "      <th>9</th>\n",
       "      <td>Seacliff</td>\n",
       "      <td>Entire home/apt</td>\n",
       "      <td>183</td>\n",
       "      <td>3</td>\n",
       "      <td>142</td>\n",
       "      <td>3.76</td>\n",
       "      <td>323</td>\n",
       "      <td>2017-09-29</td>\n",
       "    </tr>\n",
       "  </tbody>\n",
       "</table>\n",
       "</div>"
      ],
      "text/plain": [
       "  neighbourhood        room_type price minimum_nights number_of_reviews  \\\n",
       "0      Seacliff     Private room   120              4                15   \n",
       "1      Seacliff  Entire home/apt  1850              1                 0   \n",
       "2      Seacliff  Entire home/apt   895              3                 0   \n",
       "3      Seacliff  Entire home/apt   975              2                 0   \n",
       "4      Seacliff  Entire home/apt   295              2                40   \n",
       "5      Seacliff  Entire home/apt   159              2               332   \n",
       "6      Seacliff  Entire home/apt   750              3                 7   \n",
       "7      Seacliff  Entire home/apt   169              6                 4   \n",
       "8      Seacliff  Entire home/apt   170             30                 6   \n",
       "9      Seacliff  Entire home/apt   183              3               142   \n",
       "\n",
       "   reviews_per_month availability_365 last_review  \n",
       "0               2.02               70  2017-09-04  \n",
       "1               0.00                0         NaN  \n",
       "2               0.00                0         NaN  \n",
       "3               0.00                0         NaN  \n",
       "4               3.86              123  2017-09-14  \n",
       "5               6.65               51  2017-09-26  \n",
       "6               2.88              162  2017-09-20  \n",
       "7               0.83              175  2017-09-17  \n",
       "8               0.08              293  2017-08-31  \n",
       "9               3.76              323  2017-09-29  "
      ]
     },
     "execution_count": 10,
     "metadata": {},
     "output_type": "execute_result"
    }
   ],
   "source": [
    "lists.head(10)"
   ]
  },
  {
   "cell_type": "markdown",
   "metadata": {},
   "source": [
    "### Use apply function"
   ]
  },
  {
   "cell_type": "markdown",
   "metadata": {},
   "source": [
    "convert availability_365 from the number of days available to the percentage of the whole year that is available"
   ]
  },
  {
   "cell_type": "code",
   "execution_count": 11,
   "metadata": {},
   "outputs": [
    {
     "name": "stderr",
     "output_type": "stream",
     "text": [
      "/Users/Crystal/.msba-notes/lib/python3.6/site-packages/ipykernel_launcher.py:1: SettingWithCopyWarning: \n",
      "A value is trying to be set on a copy of a slice from a DataFrame.\n",
      "Try using .loc[row_indexer,col_indexer] = value instead\n",
      "\n",
      "See the caveats in the documentation: http://pandas.pydata.org/pandas-docs/stable/indexing.html#indexing-view-versus-copy\n",
      "  \"\"\"Entry point for launching an IPython kernel.\n"
     ]
    }
   ],
   "source": [
    "lists['availability_365_perc'] = lists['availability_365'].apply(lambda x: np.round(x/365, 2))"
   ]
  },
  {
   "cell_type": "code",
   "execution_count": 12,
   "metadata": {},
   "outputs": [
    {
     "data": {
      "text/html": [
       "<div>\n",
       "<style scoped>\n",
       "    .dataframe tbody tr th:only-of-type {\n",
       "        vertical-align: middle;\n",
       "    }\n",
       "\n",
       "    .dataframe tbody tr th {\n",
       "        vertical-align: top;\n",
       "    }\n",
       "\n",
       "    .dataframe thead th {\n",
       "        text-align: right;\n",
       "    }\n",
       "</style>\n",
       "<table border=\"1\" class=\"dataframe\">\n",
       "  <thead>\n",
       "    <tr style=\"text-align: right;\">\n",
       "      <th></th>\n",
       "      <th>neighbourhood</th>\n",
       "      <th>room_type</th>\n",
       "      <th>price</th>\n",
       "      <th>minimum_nights</th>\n",
       "      <th>number_of_reviews</th>\n",
       "      <th>reviews_per_month</th>\n",
       "      <th>availability_365</th>\n",
       "      <th>last_review</th>\n",
       "      <th>availability_365_perc</th>\n",
       "    </tr>\n",
       "  </thead>\n",
       "  <tbody>\n",
       "    <tr>\n",
       "      <th>0</th>\n",
       "      <td>Seacliff</td>\n",
       "      <td>Private room</td>\n",
       "      <td>120</td>\n",
       "      <td>4</td>\n",
       "      <td>15</td>\n",
       "      <td>2.02</td>\n",
       "      <td>70</td>\n",
       "      <td>2017-09-04</td>\n",
       "      <td>0.19</td>\n",
       "    </tr>\n",
       "    <tr>\n",
       "      <th>1</th>\n",
       "      <td>Seacliff</td>\n",
       "      <td>Entire home/apt</td>\n",
       "      <td>1850</td>\n",
       "      <td>1</td>\n",
       "      <td>0</td>\n",
       "      <td>0.00</td>\n",
       "      <td>0</td>\n",
       "      <td>NaN</td>\n",
       "      <td>0</td>\n",
       "    </tr>\n",
       "    <tr>\n",
       "      <th>2</th>\n",
       "      <td>Seacliff</td>\n",
       "      <td>Entire home/apt</td>\n",
       "      <td>895</td>\n",
       "      <td>3</td>\n",
       "      <td>0</td>\n",
       "      <td>0.00</td>\n",
       "      <td>0</td>\n",
       "      <td>NaN</td>\n",
       "      <td>0</td>\n",
       "    </tr>\n",
       "    <tr>\n",
       "      <th>3</th>\n",
       "      <td>Seacliff</td>\n",
       "      <td>Entire home/apt</td>\n",
       "      <td>975</td>\n",
       "      <td>2</td>\n",
       "      <td>0</td>\n",
       "      <td>0.00</td>\n",
       "      <td>0</td>\n",
       "      <td>NaN</td>\n",
       "      <td>0</td>\n",
       "    </tr>\n",
       "    <tr>\n",
       "      <th>4</th>\n",
       "      <td>Seacliff</td>\n",
       "      <td>Entire home/apt</td>\n",
       "      <td>295</td>\n",
       "      <td>2</td>\n",
       "      <td>40</td>\n",
       "      <td>3.86</td>\n",
       "      <td>123</td>\n",
       "      <td>2017-09-14</td>\n",
       "      <td>0.34</td>\n",
       "    </tr>\n",
       "  </tbody>\n",
       "</table>\n",
       "</div>"
      ],
      "text/plain": [
       "  neighbourhood        room_type price minimum_nights number_of_reviews  \\\n",
       "0      Seacliff     Private room   120              4                15   \n",
       "1      Seacliff  Entire home/apt  1850              1                 0   \n",
       "2      Seacliff  Entire home/apt   895              3                 0   \n",
       "3      Seacliff  Entire home/apt   975              2                 0   \n",
       "4      Seacliff  Entire home/apt   295              2                40   \n",
       "\n",
       "   reviews_per_month availability_365 last_review availability_365_perc  \n",
       "0               2.02               70  2017-09-04                  0.19  \n",
       "1               0.00                0         NaN                     0  \n",
       "2               0.00                0         NaN                     0  \n",
       "3               0.00                0         NaN                     0  \n",
       "4               3.86              123  2017-09-14                  0.34  "
      ]
     },
     "execution_count": 12,
     "metadata": {},
     "output_type": "execute_result"
    }
   ],
   "source": [
    "lists.head(5)"
   ]
  },
  {
   "cell_type": "markdown",
   "metadata": {},
   "source": [
    "### Data visualization"
   ]
  },
  {
   "cell_type": "code",
   "execution_count": 13,
   "metadata": {},
   "outputs": [],
   "source": [
    "import seaborn as sns\n",
    "sns.set_style(\"whitegrid\")"
   ]
  },
  {
   "cell_type": "code",
   "execution_count": 14,
   "metadata": {},
   "outputs": [],
   "source": [
    "pricing = listings[\"price\"].values\n",
    "roomType = listings['room_type'].values"
   ]
  },
  {
   "cell_type": "code",
   "execution_count": 15,
   "metadata": {},
   "outputs": [],
   "source": [
    "# sns.distplot(pricing)\n",
    "# sns.countplot(x=\"price\", data=listings, palette=\"Greens_d\")"
   ]
  },
  {
   "cell_type": "code",
   "execution_count": 16,
   "metadata": {},
   "outputs": [],
   "source": [
    "#PYTEST_VALIDATE_IGNORE_OUTPUT"
   ]
  },
  {
   "cell_type": "code",
   "execution_count": 17,
   "metadata": {},
   "outputs": [
    {
     "data": {
      "image/png": "[encoded data removed]",
      "text/plain": [
       "<matplotlib.figure.Figure at 0x115f186d8>"
      ]
     },
     "metadata": {},
     "output_type": "display_data"
    }
   ],
   "source": [
    "sns.barplot(x=\"room_type\", y=\"price\", data=listings);\n",
    "# this is how it works to prevent py.test --nbval mark here as an error: https://github.com/computationalmodelling/nbval/issues/6"
   ]
  },
  {
   "cell_type": "code",
   "execution_count": 18,
   "metadata": {},
   "outputs": [],
   "source": [
    "#ax = sns.barplot(x=\"neighbourhood\", y=\"availability_365_perc\", data=lists)"
   ]
  },
  {
   "cell_type": "code",
   "execution_count": 19,
   "metadata": {},
   "outputs": [
    {
     "name": "stderr",
     "output_type": "stream",
     "text": [
      "/Users/Crystal/.msba-notes/lib/python3.6/site-packages/ipykernel_launcher.py:1: SettingWithCopyWarning: \n",
      "A value is trying to be set on a copy of a slice from a DataFrame.\n",
      "Try using .loc[row_indexer,col_indexer] = value instead\n",
      "\n",
      "See the caveats in the documentation: http://pandas.pydata.org/pandas-docs/stable/indexing.html#indexing-view-versus-copy\n",
      "  \"\"\"Entry point for launching an IPython kernel.\n"
     ]
    }
   ],
   "source": [
    "lists['neighbourhood'] = lists['neighbourhood'].astype('str') "
   ]
  },
  {
   "cell_type": "code",
   "execution_count": 20,
   "metadata": {},
   "outputs": [],
   "source": [
    "# listings.groupby('room_type').size().plot(kind = \"bar\")"
   ]
  },
  {
   "cell_type": "code",
   "execution_count": 21,
   "metadata": {},
   "outputs": [],
   "source": [
    "#lists.plot.hist(column = \"price\", bins = 10)"
   ]
  },
  {
   "cell_type": "markdown",
   "metadata": {},
   "source": [
    "### One-hot encoding"
   ]
  },
  {
   "cell_type": "code",
   "execution_count": 22,
   "metadata": {},
   "outputs": [
    {
     "name": "stderr",
     "output_type": "stream",
     "text": [
      "/Users/Crystal/.msba-notes/lib/python3.6/site-packages/pandas/core/frame.py:2540: SettingWithCopyWarning: \n",
      "A value is trying to be set on a copy of a slice from a DataFrame.\n",
      "Try using .loc[row_indexer,col_indexer] = value instead\n",
      "\n",
      "See the caveats in the documentation: http://pandas.pydata.org/pandas-docs/stable/indexing.html#indexing-view-versus-copy\n",
      "  self[k1] = value[k2]\n"
     ]
    }
   ],
   "source": [
    "lists[['price','minimum_nights','number_of_reviews','availability_365_perc']] = lists[['price','minimum_nights','number_of_reviews','availability_365_perc']].apply(pd.to_numeric,errors='coerce')"
   ]
  },
  {
   "cell_type": "code",
   "execution_count": 23,
   "metadata": {},
   "outputs": [],
   "source": [
    "drop_columns = ['number_of_reviews','availability_365','last_review']"
   ]
  },
  {
   "cell_type": "code",
   "execution_count": 24,
   "metadata": {
    "scrolled": true
   },
   "outputs": [],
   "source": [
    "clean_lists = lists.drop(drop_columns, axis = 1)"
   ]
  },
  {
   "cell_type": "code",
   "execution_count": 25,
   "metadata": {},
   "outputs": [
    {
     "data": {
      "text/plain": [
       "Index(['neighbourhood', 'room_type', 'price', 'minimum_nights',\n",
       "       'reviews_per_month', 'availability_365_perc'],\n",
       "      dtype='object')"
      ]
     },
     "execution_count": 25,
     "metadata": {},
     "output_type": "execute_result"
    }
   ],
   "source": [
    "clean_lists.columns"
   ]
  },
  {
   "cell_type": "code",
   "execution_count": 26,
   "metadata": {
    "scrolled": true
   },
   "outputs": [],
   "source": [
    "final_lists = pd.get_dummies(clean_lists)"
   ]
  },
  {
   "cell_type": "code",
   "execution_count": 27,
   "metadata": {},
   "outputs": [],
   "source": [
    "final_lists = final_lists.dropna()"
   ]
  },
  {
   "cell_type": "markdown",
   "metadata": {},
   "source": [
    "### Define target variable"
   ]
  },
  {
   "cell_type": "code",
   "execution_count": 28,
   "metadata": {},
   "outputs": [],
   "source": [
    "final_lists['affordability'] = (final_lists['price'] > 150) "
   ]
  },
  {
   "cell_type": "code",
   "execution_count": 29,
   "metadata": {},
   "outputs": [
    {
     "data": {
      "text/plain": [
       "array([False,  True], dtype=bool)"
      ]
     },
     "execution_count": 29,
     "metadata": {},
     "output_type": "execute_result"
    }
   ],
   "source": [
    "target = final_lists['affordability'].values\n",
    "target[:2]"
   ]
  },
  {
   "cell_type": "code",
   "execution_count": 30,
   "metadata": {},
   "outputs": [
    {
     "data": {
      "text/plain": [
       "0.52927348035374455"
      ]
     },
     "execution_count": 30,
     "metadata": {},
     "output_type": "execute_result"
    }
   ],
   "source": [
    "target.mean()"
   ]
  },
  {
   "cell_type": "code",
   "execution_count": 31,
   "metadata": {
    "scrolled": true
   },
   "outputs": [],
   "source": [
    "list_features_columns = list(final_lists.columns.values)"
   ]
  },
  {
   "cell_type": "code",
   "execution_count": 32,
   "metadata": {},
   "outputs": [],
   "source": [
    "list_features_columns.remove('affordability')\n",
    "list_features_columns.remove('price')"
   ]
  },
  {
   "cell_type": "code",
   "execution_count": 33,
   "metadata": {},
   "outputs": [],
   "source": [
    "list_features = final_lists[list_features_columns]"
   ]
  },
  {
   "cell_type": "markdown",
   "metadata": {},
   "source": [
    "### Train-test split"
   ]
  },
  {
   "cell_type": "code",
   "execution_count": 34,
   "metadata": {},
   "outputs": [
    {
     "name": "stderr",
     "output_type": "stream",
     "text": [
      "/Users/Crystal/.msba-notes/lib/python3.6/site-packages/sklearn/cross_validation.py:41: DeprecationWarning: This module was deprecated in version 0.18 in favor of the model_selection module into which all the refactored classes and functions are moved. Also note that the interface of the new CV iterators are different from that of this module. This module will be removed in 0.20.\n",
      "  \"This module will be removed in 0.20.\", DeprecationWarning)\n"
     ]
    }
   ],
   "source": [
    "from sklearn.cross_validation import train_test_split"
   ]
  },
  {
   "cell_type": "code",
   "execution_count": 35,
   "metadata": {},
   "outputs": [],
   "source": [
    "list_features_train, list_features_test, target_train, target_test = train_test_split(list_features, target, test_size = 0.3, random_state = 32 )"
   ]
  },
  {
   "cell_type": "markdown",
   "metadata": {},
   "source": [
    "## Elbow method for optimal k for clustering"
   ]
  },
  {
   "cell_type": "code",
   "execution_count": 42,
   "metadata": {},
   "outputs": [
    {
     "data": {
      "image/png": "[encoded data removed]",
      "text/plain": [
       "<matplotlib.figure.Figure at 0x118d4b7f0>"
      ]
     },
     "metadata": {},
     "output_type": "display_data"
    }
   ],
   "source": [
    "distortions = []\n",
    "for i in range(1, 11):\n",
    "    km = KMeans(n_clusters=i, init='k-means++', n_init=10, max_iter=300, random_state=0)\n",
    "    km.fit(list_features_train)\n",
    "    distortions.append(km.inertia_)\n",
    "    \n",
    "plt.plot(range(1,11), distortions, marker='o')\n",
    "plt.xlabel('Number of clusters')\n",
    "plt.ylabel('Distortion')\n",
    "plt.show()\n"
   ]
  },
  {
   "cell_type": "markdown",
   "metadata": {},
   "source": [
    "## silhouette plot to test k = 3"
   ]
  },
  {
   "cell_type": "code",
   "execution_count": 49,
   "metadata": {},
   "outputs": [],
   "source": [
    "from matplotlib import cm\n",
    "from sklearn.metrics import silhouette_samples"
   ]
  },
  {
   "cell_type": "code",
   "execution_count": 50,
   "metadata": {},
   "outputs": [],
   "source": [
    "kmeans = KMeans(n_clusters=3, init='k-means++',n_init=10,max_iter=300, tol=1e-04, random_state=0)\n",
    "kmeans.fit(list_features_train)\n",
    "labels = kmeans.labels_\n",
    "\n",
    "cluster_labels = np.unique(labels)\n",
    "n_clusters = cluster_labels.shape[0]"
   ]
  },
  {
   "cell_type": "code",
   "execution_count": 51,
   "metadata": {},
   "outputs": [
    {
     "data": {
      "image/png": "[encoded data removed]",
      "text/plain": [
       "<matplotlib.figure.Figure at 0x118e21358>"
      ]
     },
     "metadata": {},
     "output_type": "display_data"
    }
   ],
   "source": [
    "silhouette_vals = silhouette_samples(list_features_train, labels, metric='euclidean')\n",
    "\n",
    "y_ax_lower, y_ax_upper = 0, 0\n",
    "yticks = []\n",
    "for i, c in enumerate(cluster_labels):\n",
    "    c_silhouette_vals = silhouette_vals[labels == c]\n",
    "    c_silhouette_vals.sort()\n",
    "    y_ax_upper += len(c_silhouette_vals)\n",
    "    color = cm.jet(float(i) / n_clusters)\n",
    "    plt.barh(range(y_ax_lower, y_ax_upper),\n",
    "    c_silhouette_vals,\n",
    "    height=1.0,\n",
    "    edgecolor='none',\n",
    "    color=color)\n",
    "    yticks.append((y_ax_lower + y_ax_upper) / 2.)\n",
    "    y_ax_lower += len(c_silhouette_vals)\n",
    "    \n",
    "silhouette_avg = np.mean(silhouette_vals)\n",
    "plt.axvline(silhouette_avg, color=\"red\", linestyle=\"--\")\n",
    "plt.yticks(yticks, cluster_labels + 1)\n",
    "plt.ylabel('Cluster')\n",
    "plt.xlabel('Silhouette coefficient')\n",
    "plt.show()"
   ]
  },
  {
   "cell_type": "markdown",
   "metadata": {},
   "source": [
    "## silhouette plot to test k = 4"
   ]
  },
  {
   "cell_type": "code",
   "execution_count": 52,
   "metadata": {},
   "outputs": [],
   "source": [
    "kmeans = KMeans(n_clusters=4, init='k-means++',n_init=10,max_iter=300, tol=1e-04, random_state=0)\n",
    "kmeans.fit(list_features_train)\n",
    "labels = kmeans.labels_\n",
    "\n",
    "cluster_labels = np.unique(labels)\n",
    "n_clusters = cluster_labels.shape[0]"
   ]
  },
  {
   "cell_type": "code",
   "execution_count": 53,
   "metadata": {},
   "outputs": [
    {
     "data": {
      "image/png": "[encoded data removed]",
      "text/plain": [
       "<matplotlib.figure.Figure at 0x118e1aac8>"
      ]
     },
     "metadata": {},
     "output_type": "display_data"
    }
   ],
   "source": [
    "silhouette_vals = silhouette_samples(list_features_train, labels, metric='euclidean')\n",
    "\n",
    "y_ax_lower, y_ax_upper = 0, 0\n",
    "yticks = []\n",
    "for i, c in enumerate(cluster_labels):\n",
    "    c_silhouette_vals = silhouette_vals[labels == c]\n",
    "    c_silhouette_vals.sort()\n",
    "    y_ax_upper += len(c_silhouette_vals)\n",
    "    color = cm.jet(float(i) / n_clusters)\n",
    "    plt.barh(range(y_ax_lower, y_ax_upper),\n",
    "    c_silhouette_vals,\n",
    "    height=1.0,\n",
    "    edgecolor='none',\n",
    "    color=color)\n",
    "    yticks.append((y_ax_lower + y_ax_upper) / 2.)\n",
    "    y_ax_lower += len(c_silhouette_vals)\n",
    "    \n",
    "silhouette_avg = np.mean(silhouette_vals)\n",
    "plt.axvline(silhouette_avg, color=\"red\", linestyle=\"--\")\n",
    "plt.yticks(yticks, cluster_labels + 1)\n",
    "plt.ylabel('Cluster')\n",
    "plt.xlabel('Silhouette coefficient')\n",
    "plt.show()"
   ]
  },
  {
   "cell_type": "markdown",
   "metadata": {},
   "source": [
    "## Cluster lists with KMeans, k = 3"
   ]
  },
  {
   "cell_type": "code",
   "execution_count": 36,
   "metadata": {},
   "outputs": [],
   "source": [
    "from sklearn.cluster import KMeans\n",
    "kmeans = KMeans(n_clusters=3, random_state=0)"
   ]
  },
  {
   "cell_type": "code",
   "execution_count": 37,
   "metadata": {},
   "outputs": [
    {
     "data": {
      "text/plain": [
       "KMeans(algorithm='auto', copy_x=True, init='k-means++', max_iter=300,\n",
       "    n_clusters=3, n_init=10, n_jobs=1, precompute_distances='auto',\n",
       "    random_state=0, tol=0.0001, verbose=0)"
      ]
     },
     "execution_count": 37,
     "metadata": {},
     "output_type": "execute_result"
    }
   ],
   "source": [
    "kmeans.fit(list_features_train)"
   ]
  },
  {
   "cell_type": "code",
   "execution_count": 38,
   "metadata": {},
   "outputs": [
    {
     "data": {
      "text/plain": [
       "array([0, 0, 0, ..., 0, 0, 0], dtype=int32)"
      ]
     },
     "execution_count": 38,
     "metadata": {},
     "output_type": "execute_result"
    }
   ],
   "source": [
    "kmeans.predict(list_features) "
   ]
  },
  {
   "cell_type": "code",
   "execution_count": 39,
   "metadata": {},
   "outputs": [
    {
     "data": {
      "text/plain": [
       "(3, 44)"
      ]
     },
     "execution_count": 39,
     "metadata": {},
     "output_type": "execute_result"
    }
   ],
   "source": [
    "kmeans.cluster_centers_.shape"
   ]
  },
  {
   "cell_type": "code",
   "execution_count": 40,
   "metadata": {
    "scrolled": true
   },
   "outputs": [
    {
     "name": "stdout",
     "output_type": "stream",
     "text": [
      "cluster centers:\n",
      "[[  2.55815943e+00   1.47174649e+00   2.87584673e-01   1.52240848e-02\n",
      "    5.38829969e-02   5.40540541e-02   1.41977420e-02   5.13171399e-03\n",
      "    2.56585700e-03   5.49093397e-02   1.72767704e-02   1.53951420e-02\n",
      "    1.04344851e-02   3.42114266e-04   4.96065686e-02   3.43824837e-02\n",
      "    2.06979131e-02   6.67122819e-03   3.23297982e-02   1.17516250e-01\n",
      "    3.25008553e-02   4.12247691e-02   1.95005132e-02   1.38556278e-02\n",
      "    2.20663702e-02   2.30927130e-02   3.19876839e-02   2.80533698e-02\n",
      "    1.59083134e-02   3.16455696e-02   3.42114266e-04   3.76325693e-03\n",
      "    2.71980842e-02   3.42114266e-03   7.33835101e-02   1.71057133e-03\n",
      "    1.23161136e-02   7.69757099e-03   1.57372562e-02   8.99760520e-02\n",
      "    0.00000000e+00   5.85528567e-01   3.95997263e-01   1.84741704e-02]\n",
      " [  3.02975000e+01   9.58000000e-01   6.28075000e-01   3.25000000e-02\n",
      "    4.75000000e-02   6.75000000e-02   2.75000000e-02   2.50000000e-03\n",
      "    7.80625564e-18   2.50000000e-02   3.00000000e-02   1.50000000e-02\n",
      "    2.50000000e-03   2.50000000e-03   4.75000000e-02   4.25000000e-02\n",
      "    2.25000000e-02   2.50000000e-03   4.50000000e-02   1.07500000e-01\n",
      "    4.75000000e-02   6.25000000e-02   3.25000000e-02   1.00000000e-02\n",
      "    2.00000000e-02   1.75000000e-02   3.25000000e-02   3.75000000e-02\n",
      "    5.00000000e-03   2.75000000e-02   1.40946282e-18   2.50000000e-03\n",
      "    2.25000000e-02   2.50000000e-03   6.75000000e-02  -8.89045781e-18\n",
      "    2.50000000e-03   5.00000000e-03   1.25000000e-02   7.25000000e-02\n",
      "    0.00000000e+00   6.55000000e-01   3.12500000e-01   3.25000000e-02]\n",
      " [  2.19285714e+02   4.85714286e-01   4.51428571e-01   0.00000000e+00\n",
      "    0.00000000e+00  -6.93889390e-18   0.00000000e+00  -8.67361738e-19\n",
      "    0.00000000e+00   1.42857143e-01  -3.46944695e-18   1.42857143e-01\n",
      "   -1.73472348e-18   5.42101086e-20  -6.93889390e-18   0.00000000e+00\n",
      "    0.00000000e+00   0.00000000e+00   6.93889390e-18  -1.38777878e-17\n",
      "    1.42857143e-01   2.85714286e-01   0.00000000e+00  -3.46944695e-18\n",
      "   -3.46944695e-18   3.46944695e-18   0.00000000e+00   1.42857143e-01\n",
      "    1.73472348e-18  -6.93889390e-18   0.00000000e+00   0.00000000e+00\n",
      "    3.46944695e-18   4.33680869e-19   1.42857143e-01   0.00000000e+00\n",
      "   -1.73472348e-18   0.00000000e+00   1.73472348e-18   0.00000000e+00\n",
      "    0.00000000e+00   7.14285714e-01   2.85714286e-01   0.00000000e+00]]\n"
     ]
    }
   ],
   "source": [
    "print (\"cluster centers:\")\n",
    "print (kmeans.cluster_centers_)"
   ]
  },
  {
   "cell_type": "code",
   "execution_count": 55,
   "metadata": {},
   "outputs": [
    {
     "name": "stderr",
     "output_type": "stream",
     "text": [
      "/Users/Crystal/.msba-notes/lib/python3.6/site-packages/ipykernel_launcher.py:2: SettingWithCopyWarning: \n",
      "A value is trying to be set on a copy of a slice from a DataFrame.\n",
      "Try using .loc[row_indexer,col_indexer] = value instead\n",
      "\n",
      "See the caveats in the documentation: http://pandas.pydata.org/pandas-docs/stable/indexing.html#indexing-view-versus-copy\n",
      "  \n"
     ]
    }
   ],
   "source": [
    "labels = kmeans.labels_\n",
    "list_features_train[\"cluster\"] = labels"
   ]
  },
  {
   "cell_type": "code",
   "execution_count": 61,
   "metadata": {
    "scrolled": true
   },
   "outputs": [
    {
     "data": {
      "text/plain": [
       "['minimum_nights',\n",
       " 'reviews_per_month',\n",
       " 'availability_365_perc',\n",
       " 'neighbourhood_Bayview',\n",
       " 'neighbourhood_Bernal Heights',\n",
       " 'neighbourhood_Castro/Upper Market',\n",
       " 'neighbourhood_Chinatown',\n",
       " 'neighbourhood_Crocker Amazon',\n",
       " 'neighbourhood_Diamond Heights',\n",
       " 'neighbourhood_Downtown/Civic Center',\n",
       " 'neighbourhood_Excelsior',\n",
       " 'neighbourhood_Financial District',\n",
       " 'neighbourhood_Glen Park',\n",
       " 'neighbourhood_Golden Gate Park',\n",
       " 'neighbourhood_Haight Ashbury',\n",
       " 'neighbourhood_Inner Richmond',\n",
       " 'neighbourhood_Inner Sunset',\n",
       " 'neighbourhood_Lakeshore',\n",
       " 'neighbourhood_Marina',\n",
       " 'neighbourhood_Mission',\n",
       " 'neighbourhood_Nob Hill',\n",
       " 'neighbourhood_Noe Valley',\n",
       " 'neighbourhood_North Beach',\n",
       " 'neighbourhood_Ocean View',\n",
       " 'neighbourhood_Outer Mission',\n",
       " 'neighbourhood_Outer Richmond',\n",
       " 'neighbourhood_Outer Sunset',\n",
       " 'neighbourhood_Pacific Heights',\n",
       " 'neighbourhood_Parkside',\n",
       " 'neighbourhood_Potrero Hill',\n",
       " 'neighbourhood_Presidio',\n",
       " 'neighbourhood_Presidio Heights',\n",
       " 'neighbourhood_Russian Hill',\n",
       " 'neighbourhood_Seacliff',\n",
       " 'neighbourhood_South of Market',\n",
       " 'neighbourhood_Treasure Island/YBI',\n",
       " 'neighbourhood_Twin Peaks',\n",
       " 'neighbourhood_Visitacion Valley',\n",
       " 'neighbourhood_West of Twin Peaks',\n",
       " 'neighbourhood_Western Addition',\n",
       " 'neighbourhood_nan',\n",
       " 'room_type_Entire home/apt',\n",
       " 'room_type_Private room',\n",
       " 'room_type_Shared room',\n",
       " 'cluster']"
      ]
     },
     "execution_count": 61,
     "metadata": {},
     "output_type": "execute_result"
    }
   ],
   "source": [
    "list(list_features_train)"
   ]
  },
  {
   "cell_type": "code",
   "execution_count": 62,
   "metadata": {},
   "outputs": [
    {
     "data": {
      "image/png": "[encoded data removed]",
      "text/plain": [
       "<matplotlib.figure.Figure at 0x11cddab70>"
      ]
     },
     "metadata": {},
     "output_type": "display_data"
    }
   ],
   "source": [
    "g = sns.FacetGrid(list_features_train, col=\"cluster\")\n",
    "g = g.map(plt.scatter, \"reviews_per_month\", \"minimum_nights\", marker=\".\")"
   ]
  },
  {
   "cell_type": "markdown",
   "metadata": {},
   "source": [
    "### py.test plugin to validate"
   ]
  },
  {
   "cell_type": "markdown",
   "metadata": {},
   "source": [
    "pass, below is the output of the validation output from my terminal:"
   ]
  }
 ],
 "metadata": {
  "kernelspec": {
   "display_name": "Python 3",
   "language": "python",
   "name": "python3"
  },
  "language_info": {
   "codemirror_mode": {
    "name": "ipython",
    "version": 3
   },
   "file_extension": ".py",
   "mimetype": "text/x-python",
   "name": "python",
   "nbconvert_exporter": "python",
   "pygments_lexer": "ipython3",
   "version": "3.6.3"
  }
 },
 "nbformat": 4,
 "nbformat_minor": 2
}
